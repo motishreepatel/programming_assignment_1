{
 "cells": [
  {
   "cell_type": "code",
   "execution_count": 1,
   "metadata": {},
   "outputs": [
    {
     "name": "stdout",
     "output_type": "stream",
     "text": [
      "Hello Python\n"
     ]
    }
   ],
   "source": [
    "#Q - 1. Write a Python program to print \"Hello Python\"?\n",
    "#Answer:\n",
    "print(\"Hello Python\")"
   ]
  },
  {
   "cell_type": "code",
   "execution_count": 2,
   "metadata": {},
   "outputs": [
    {
     "name": "stdout",
     "output_type": "stream",
     "text": [
      "Addition of two given numbers is:  15\n",
      "Division of two given numbers is:  2.0\n"
     ]
    }
   ],
   "source": [
    "#2 - 2. Write a Python program to do arithmetical operations addition and division.?\n",
    "#Answer:\n",
    "a = 10\n",
    "b = 5\n",
    "\n",
    "print(\"Addition of two given numbers is: \", a+b)\n",
    "print(\"Division of two given numbers is: \", a/b)"
   ]
  },
  {
   "cell_type": "code",
   "execution_count": 3,
   "metadata": {},
   "outputs": [
    {
     "name": "stdout",
     "output_type": "stream",
     "text": [
      "Area of this triangle is:  200.0\n"
     ]
    }
   ],
   "source": [
    "#Q - 3. Write a Python program to find the area of a triangle?\n",
    "#Answer:\n",
    "'''For measuring area of a tringle we need it's base and height'''\n",
    "base = 40\n",
    "height = 10\n",
    "\n",
    "print(\"Area of this triangle is: \", 0.5*base*height)\n"
   ]
  },
  {
   "cell_type": "code",
   "execution_count": 4,
   "metadata": {},
   "outputs": [
    {
     "name": "stdout",
     "output_type": "stream",
     "text": [
      "Before swapping two variables are (7, 8)\n",
      "After swapping two variables are:  (8, 7)\n"
     ]
    }
   ],
   "source": [
    "#Q - 4. Write a Python program to swap two variables?\n",
    "#Answer:\n",
    "a = 7\n",
    "b = 8\n",
    "print(\"Before swapping two variables are\", (a,b))\n",
    "\n",
    "a , b = b, a\n",
    "\n",
    "print(\"After swapping two variables are: \", (a,b))"
   ]
  },
  {
   "cell_type": "code",
   "execution_count": 7,
   "metadata": {},
   "outputs": [
    {
     "name": "stdout",
     "output_type": "stream",
     "text": [
      "Random number is: 3\n"
     ]
    }
   ],
   "source": [
    "#Q - 5. Write a Python program to generate a random number?\n",
    "#Answer:\n",
    "import random\n",
    "print(\"Random number is:\", random.randint(1,40))"
   ]
  },
  {
   "cell_type": "code",
   "execution_count": null,
   "metadata": {},
   "outputs": [],
   "source": []
  }
 ],
 "metadata": {
  "kernelspec": {
   "display_name": "Python 3.9.6 64-bit",
   "language": "python",
   "name": "python3"
  },
  "language_info": {
   "codemirror_mode": {
    "name": "ipython",
    "version": 3
   },
   "file_extension": ".py",
   "mimetype": "text/x-python",
   "name": "python",
   "nbconvert_exporter": "python",
   "pygments_lexer": "ipython3",
   "version": "3.9.6"
  },
  "orig_nbformat": 4,
  "vscode": {
   "interpreter": {
    "hash": "31f2aee4e71d21fbe5cf8b01ff0e069b9275f58929596ceb00d14d90e3e16cd6"
   }
  }
 },
 "nbformat": 4,
 "nbformat_minor": 2
}
